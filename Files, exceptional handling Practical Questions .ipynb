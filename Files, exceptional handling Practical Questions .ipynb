{
 "cells": [
  {
   "cell_type": "code",
   "execution_count": 2,
   "id": "f265587f",
   "metadata": {},
   "outputs": [],
   "source": [
    "# 1. Open a File for Writing and Write a String  \n",
    "with open(\"output.txt\", \"w\") as file:\n",
    "    file.write(\"Hello, this is a test string.\")\n"
   ]
  },
  {
   "cell_type": "code",
   "execution_count": 27,
   "id": "62a320f3",
   "metadata": {},
   "outputs": [
    {
     "name": "stdout",
     "output_type": "stream",
     "text": [
      "Nagarjuna College of Engineering and Technology (NCET) is a premier engineering institution in Karnataka, known for its strong academic programs, innovative research, and industry collaborations. Affiliated with VTU and accredited by NAAC, NCET offers cutting-edge facilities, experienced faculty, and a vibrant campus life. The college emphasizes hands-on learning, entrepreneurship, and technological advancements, fostering skilled professionals ready for global challenges. With active student chapters like IEEE and various technical clubs, NCET provides a dynamic platform for students to excel in academics, research, and extracurricular activities.\n"
     ]
    }
   ],
   "source": [
    "# 2. Read and Print Each Line of a File  \n",
    "with open(\"data.txt\", \"r\") as file:\n",
    "    for line in file:\n",
    "        print(line.strip())"
   ]
  },
  {
   "cell_type": "code",
   "execution_count": 29,
   "id": "4eeffe1b",
   "metadata": {},
   "outputs": [],
   "source": [
    "# 3. Handle File Not Found Error  \n",
    "try:\n",
    "    with open(\"data.txt\", \"r\") as file:\n",
    "        content = file.read()\n",
    "except FileNotFoundError:\n",
    "    print(\"Error: The file does not exist.\")"
   ]
  },
  {
   "cell_type": "code",
   "execution_count": 6,
   "id": "c6b7f4c5",
   "metadata": {},
   "outputs": [
    {
     "name": "stdout",
     "output_type": "stream",
     "text": [
      "Cannot divide by zero.\n"
     ]
    }
   ],
   "source": [
    "# 5. Handle Division by Zero Error  \n",
    "try:\n",
    "    result = 10 / 0\n",
    "except ZeroDivisionError:\n",
    "    print(\"Cannot divide by zero.\")"
   ]
  },
  {
   "cell_type": "code",
   "execution_count": 30,
   "id": "202d8ab7",
   "metadata": {},
   "outputs": [],
   "source": [
    "# 6. Log an Error Message for Division by Zero  \n",
    "import logging\n",
    "logging.basicConfig(filename=\"error.log\", level=logging.ERROR)\n",
    "try:\n",
    "    result = 10 / 0\n",
    "except ZeroDivisionError as e:\n",
    "    logging.error(\"Division by zero error occurred: %s\", e)"
   ]
  },
  {
   "cell_type": "code",
   "execution_count": 31,
   "id": "6d0036e7",
   "metadata": {},
   "outputs": [],
   "source": [
    "# 7. Log Information at Different Levels  \n",
    "logging.basicConfig(filename=\"app.log\", level=logging.DEBUG)\n",
    "logging.info(\"This is an INFO message\")\n",
    "logging.warning(\"This is a WARNING message\")\n",
    "logging.error(\"This is an ERROR message\")"
   ]
  },
  {
   "cell_type": "code",
   "execution_count": 32,
   "id": "9dc41574",
   "metadata": {},
   "outputs": [],
   "source": [
    "# 8. Handle File Opening Error  \n",
    "try:\n",
    "    with open(\"data.txt\", \"r\") as file:\n",
    "        content = file.read()\n",
    "except FileNotFoundError:\n",
    "    print(\"File not found error occurred.\")\n"
   ]
  },
  {
   "cell_type": "code",
   "execution_count": 33,
   "id": "cf1cca42",
   "metadata": {},
   "outputs": [
    {
     "name": "stdout",
     "output_type": "stream",
     "text": [
      "['Nagarjuna College of Engineering and Technology (NCET) is a premier engineering institution in Karnataka, known for its strong academic programs, innovative research, and industry collaborations. Affiliated with VTU and accredited by NAAC, NCET offers cutting-edge facilities, experienced faculty, and a vibrant campus life. The college emphasizes hands-on learning, entrepreneurship, and technological advancements, fostering skilled professionals ready for global challenges. With active student chapters like IEEE and various technical clubs, NCET provides a dynamic platform for students to excel in academics, research, and extracurricular activities.']\n"
     ]
    }
   ],
   "source": [
    "# 9. Read a File Line by Line and Store in List  \n",
    "with open(\"data.txt\", \"r\") as file:\n",
    "    lines = [line.strip() for line in file]\n",
    "print(lines)"
   ]
  },
  {
   "cell_type": "code",
   "execution_count": 34,
   "id": "bc1aad65",
   "metadata": {},
   "outputs": [],
   "source": [
    "# 10. Append Data to an Existing File  \n",
    "with open(\"data.txt\", \"a\") as file:\n",
    "    file.write(\"\\nNew line appended.\")"
   ]
  },
  {
   "cell_type": "code",
   "execution_count": 35,
   "id": "a3f8de70",
   "metadata": {},
   "outputs": [
    {
     "name": "stdout",
     "output_type": "stream",
     "text": [
      "Key not found in dictionary.\n"
     ]
    }
   ],
   "source": [
    "# 11. Handle Dictionary Key Error  \n",
    "try:\n",
    "    data = {\"name\": \"Alice\"}\n",
    "    print(data[\"age\"])\n",
    "except KeyError:\n",
    "    print(\"Key not found in dictionary.\")\n",
    "    "
   ]
  },
  {
   "cell_type": "code",
   "execution_count": 13,
   "id": "25e9eff7",
   "metadata": {},
   "outputs": [
    {
     "name": "stdout",
     "output_type": "stream",
     "text": [
      "Cannot divide by zero.\n"
     ]
    }
   ],
   "source": [
    "# 12. Handle Multiple Exceptions  \n",
    "try:\n",
    "    result = 10 / 0\n",
    "except ZeroDivisionError:\n",
    "    print(\"Cannot divide by zero.\")\n",
    "except TypeError:\n",
    "    print(\"Type error occurred.\")"
   ]
  },
  {
   "cell_type": "code",
   "execution_count": 36,
   "id": "b1fda83c",
   "metadata": {},
   "outputs": [
    {
     "name": "stdout",
     "output_type": "stream",
     "text": [
      "Nagarjuna College of Engineering and Technology (NCET) is a premier engineering institution in Karnataka, known for its strong academic programs, innovative research, and industry collaborations. Affiliated with VTU and accredited by NAAC, NCET offers cutting-edge facilities, experienced faculty, and a vibrant campus life. The college emphasizes hands-on learning, entrepreneurship, and technological advancements, fostering skilled professionals ready for global challenges. With active student chapters like IEEE and various technical clubs, NCET provides a dynamic platform for students to excel in academics, research, and extracurricular activities.\n",
      "New line appended.\n"
     ]
    }
   ],
   "source": [
    "# 13. Check if File Exists Before Reading  \n",
    "import os\n",
    "if os.path.exists(\"data.txt\"):\n",
    "    with open(\"data.txt\", \"r\") as file:\n",
    "        print(file.read())\n",
    "else:\n",
    "    print(\"File does not exist.\")"
   ]
  },
  {
   "cell_type": "code",
   "execution_count": 37,
   "id": "5365d2d3",
   "metadata": {},
   "outputs": [],
   "source": [
    "# 14. Log Both Info and Error Messages  \n",
    "logging.info(\"This is an informational log\")\n",
    "try:\n",
    "    x = 1 / 0\n",
    "except ZeroDivisionError as e:\n",
    "    logging.error(\"An error occurred: %s\", e)"
   ]
  },
  {
   "cell_type": "code",
   "execution_count": 38,
   "id": "cf715de2",
   "metadata": {},
   "outputs": [
    {
     "name": "stdout",
     "output_type": "stream",
     "text": [
      "Nagarjuna College of Engineering and Technology (NCET) is a premier engineering institution in Karnataka, known for its strong academic programs, innovative research, and industry collaborations. Affiliated with VTU and accredited by NAAC, NCET offers cutting-edge facilities, experienced faculty, and a vibrant campus life. The college emphasizes hands-on learning, entrepreneurship, and technological advancements, fostering skilled professionals ready for global challenges. With active student chapters like IEEE and various technical clubs, NCET provides a dynamic platform for students to excel in academics, research, and extracurricular activities.\n",
      "New line appended.\n"
     ]
    }
   ],
   "source": [
    "# 15. Print File Content and Handle Empty File  \n",
    "with open(\"data.txt\", \"r\") as file:\n",
    "    content = file.read()\n",
    "    if not content:\n",
    "        print(\"File is empty.\")\n",
    "    else:\n",
    "        print(content)"
   ]
  },
  {
   "cell_type": "code",
   "execution_count": 39,
   "id": "23cc3e52",
   "metadata": {},
   "outputs": [
    {
     "name": "stdout",
     "output_type": "stream",
     "text": [
      "[89.21484375, 89.21484375, 89.23046875, 89.23046875, 89.23046875, 89.23046875, 89.23046875, 89.23046875, 89.23046875, 89.23046875, 89.23046875, 89.23046875, 89.23046875, 89.23046875, 89.23046875, 89.23046875, 89.23046875, 89.23046875, 89.23046875, 89.23046875, 89.23046875, 89.23046875, 89.23046875, 89.23046875, 89.23046875, 89.23046875, 89.23046875, 89.23046875, 89.23046875, 89.23046875, 89.23046875, 89.23046875, 89.23046875, 89.23046875, 89.23046875, 89.23046875, 89.23046875, 89.23046875, 89.23046875, 89.23046875, 89.23046875, 89.23046875, 89.23046875, 89.23046875, 89.23046875, 89.23046875, 89.23046875, 89.23046875, 89.23046875, 89.23046875, 89.23046875, 89.23046875, 89.23046875, 89.23046875, 89.23046875, 89.23046875, 89.23046875, 89.23046875, 89.23046875, 89.23046875, 89.23046875, 89.23046875, 89.23046875, 89.23046875, 89.23046875, 89.23828125, 89.25390625, 89.26953125, 89.2890625, 89.35546875, 89.35546875, 89.35546875, 89.41796875, 89.41796875, 89.41796875, 89.48046875, 89.48046875, 89.48046875, 89.54296875, 89.54296875, 89.54296875, 89.54296875, 89.60546875, 89.60546875, 89.60546875, 89.66796875, 89.66796875, 89.66796875, 89.66796875, 89.73046875, 89.73046875, 89.79296875, 89.79296875, 89.79296875, 89.79296875, 89.85546875, 89.85546875, 89.85546875, 89.91796875, 89.91796875, 89.91796875, 89.98046875, 89.98046875, 89.98046875, 90.04296875, 90.04296875, 90.04296875, 90.04296875, 90.10546875, 90.10546875, 90.10546875, 90.10546875, 90.10546875, 90.10546875, 90.10546875, 90.10546875, 90.10546875, 90.10546875, 90.10546875, 90.10546875, 90.10546875, 90.10546875, 90.10546875, 90.10546875, 90.10546875, 90.10546875, 90.10546875, 90.10546875, 90.10546875, 90.10546875, 90.10546875, 90.10546875, 90.10546875, 90.10546875, 90.10546875, 90.10546875, 90.10546875, 90.10546875, 90.10546875]\n"
     ]
    }
   ],
   "source": [
    "# 16. Use Memory Profiling to Check Usage  \n",
    "import memory_profiler\n",
    "def my_function():\n",
    "    data = [i for i in range(100000)]\n",
    "    return data\n",
    "print(memory_profiler.memory_usage(my_function))"
   ]
  },
  {
   "cell_type": "code",
   "execution_count": 40,
   "id": "4f30f96a",
   "metadata": {},
   "outputs": [],
   "source": [
    "# 17. Write a List of Numbers to a File  \n",
    "numbers = [1, 2, 3, 4, 5]\n",
    "with open(\"numbers.txt\", \"w\") as file:\n",
    "    for num in numbers:\n",
    "        file.write(str(num) + \"\\n\")"
   ]
  },
  {
   "cell_type": "code",
   "execution_count": 21,
   "id": "4dcbd1bf",
   "metadata": {},
   "outputs": [],
   "source": [
    "# 18. Implement Log Rotation After 1MB  \n",
    "from logging.handlers import RotatingFileHandler\n",
    "handler = RotatingFileHandler(\"app.log\", maxBytes=1024*1024, backupCount=3)\n",
    "logger = logging.getLogger()\n",
    "logger.addHandler(handler)\n",
    "logger.setLevel(logging.INFO)\n",
    "logger.info(\"This is a log entry.\")"
   ]
  },
  {
   "cell_type": "code",
   "execution_count": 22,
   "id": "54ad8939",
   "metadata": {},
   "outputs": [
    {
     "name": "stdout",
     "output_type": "stream",
     "text": [
      "Index out of range.\n",
      "Key not found.\n"
     ]
    }
   ],
   "source": [
    "# 19. Handle IndexError and KeyError  \n",
    "try:\n",
    "    my_list = [1, 2, 3]\n",
    "    print(my_list[5])\n",
    "except IndexError:\n",
    "    print(\"Index out of range.\")\n",
    "try:\n",
    "    my_dict = {\"a\": 1}\n",
    "    print(my_dict[\"b\"])\n",
    "except KeyError:\n",
    "    print(\"Key not found.\")\n"
   ]
  },
  {
   "cell_type": "code",
   "execution_count": 41,
   "id": "eac35a32",
   "metadata": {},
   "outputs": [
    {
     "name": "stdout",
     "output_type": "stream",
     "text": [
      "Nagarjuna College of Engineering and Technology (NCET) is a premier engineering institution in Karnataka, known for its strong academic programs, innovative research, and industry collaborations. Affiliated with VTU and accredited by NAAC, NCET offers cutting-edge facilities, experienced faculty, and a vibrant campus life. The college emphasizes hands-on learning, entrepreneurship, and technological advancements, fostering skilled professionals ready for global challenges. With active student chapters like IEEE and various technical clubs, NCET provides a dynamic platform for students to excel in academics, research, and extracurricular activities.\n",
      "New line appended.\n"
     ]
    }
   ],
   "source": [
    "# 20. Open a File Using Context Manager  \n",
    "with open(\"data.txt\", \"r\") as file:\n",
    "    content = file.read()\n",
    "print(content)"
   ]
  },
  {
   "cell_type": "code",
   "execution_count": 42,
   "id": "e7c39f16",
   "metadata": {},
   "outputs": [
    {
     "name": "stdout",
     "output_type": "stream",
     "text": [
      "Occurrences of 'Python': 0\n"
     ]
    }
   ],
   "source": [
    "# 21. Count Word Occurrences in a File  \n",
    "word = \"Python\"\n",
    "with open(\"data.txt\", \"r\") as file:\n",
    "    content = file.read()\n",
    "    print(f\"Occurrences of '{word}':\", content.lower().count(word.lower()))\n"
   ]
  },
  {
   "cell_type": "code",
   "execution_count": 44,
   "id": "dd7249ea",
   "metadata": {},
   "outputs": [
    {
     "name": "stdout",
     "output_type": "stream",
     "text": [
      "Nagarjuna College of Engineering and Technology (NCET) is a premier engineering institution in Karnataka, known for its strong academic programs, innovative research, and industry collaborations. Affiliated with VTU and accredited by NAAC, NCET offers cutting-edge facilities, experienced faculty, and a vibrant campus life. The college emphasizes hands-on learning, entrepreneurship, and technological advancements, fostering skilled professionals ready for global challenges. With active student chapters like IEEE and various technical clubs, NCET provides a dynamic platform for students to excel in academics, research, and extracurricular activities.\n",
      "New line appended.\n"
     ]
    }
   ],
   "source": [
    "# 22. Check if File is Empty Before Reading  \n",
    "if os.stat(\"data.txt\").st_size == 0:\n",
    "    print(\"File is empty.\")\n",
    "else:\n",
    "    with open(\"data.txt\", \"r\") as file:\n",
    "        print(file.read())"
   ]
  },
  {
   "cell_type": "code",
   "execution_count": 45,
   "id": "a0ce9513",
   "metadata": {},
   "outputs": [],
   "source": [
    "# 23. Log Error When File Handling Fails  \n",
    "try:\n",
    "    with open(\"data.txt\", \"r\") as file:\n",
    "        content = file.read()\n",
    "except FileNotFoundError as e:\n",
    "    logging.error(\"File handling error occurred: %s\", e)"
   ]
  },
  {
   "cell_type": "code",
   "execution_count": null,
   "id": "507f7586",
   "metadata": {},
   "outputs": [],
   "source": []
  }
 ],
 "metadata": {
  "kernelspec": {
   "display_name": "Python 3 (ipykernel)",
   "language": "python",
   "name": "python3"
  },
  "language_info": {
   "codemirror_mode": {
    "name": "ipython",
    "version": 3
   },
   "file_extension": ".py",
   "mimetype": "text/x-python",
   "name": "python",
   "nbconvert_exporter": "python",
   "pygments_lexer": "ipython3",
   "version": "3.10.9"
  }
 },
 "nbformat": 4,
 "nbformat_minor": 5
}
